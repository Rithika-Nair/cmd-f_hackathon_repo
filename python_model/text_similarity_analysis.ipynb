{
 "cells": [
  {
   "cell_type": "code",
   "execution_count": 1,
   "id": "9a8a9021-1216-44a1-826a-93b852d18195",
   "metadata": {},
   "outputs": [],
   "source": [
    "import spacy\n",
    "import json\n",
    "from spacy.lang.en.stop_words import STOP_WORDS\n",
    "from spacy.tokens import Doc\n",
    "# from fuzzywuzzy import fuzz"
   ]
  },
  {
   "cell_type": "code",
   "execution_count": 2,
   "id": "0c4db437-5343-4341-86d9-bf4d5bfd002d",
   "metadata": {},
   "outputs": [],
   "source": [
    "nlp = spacy.load(\"en_core_web_md\")"
   ]
  },
  {
   "cell_type": "code",
   "execution_count": 24,
   "id": "ea7e909a-9f42-43c1-aefb-8eb05f2f2d18",
   "metadata": {},
   "outputs": [],
   "source": [
    "# Read USER ANSWERS data from the JSON file\n",
    "with open('data.json', 'r', encoding='utf-8') as file:\n",
    "    data = json.load(file)\n",
    "\n",
    "# Process each text using spaCy\n",
    "user_data = []\n",
    "for entry in data:\n",
    "    doc = nlp(entry['text'])\n",
    "    user_entry = {'id': entry['id'], 'text': doc}\n",
    "    user_data.append(user_entry)"
   ]
  },
  {
   "cell_type": "code",
   "execution_count": 4,
   "id": "91bdc1ac-5be5-4f4f-95ef-0bcc1fdb51c5",
   "metadata": {},
   "outputs": [],
   "source": [
    "# # Read DATABASE data from the JSON file\n",
    "# with open('dummy.json', 'r', encoding='utf-8') as file:\n",
    "#     data = json.load(file)\n",
    "\n",
    "# # Process each text using spaCy\n",
    "# database_data = []\n",
    "# for entry in data:\n",
    "#     ans_doc = nlp(entry['answer'])\n",
    "#     qn_doc = nlp(entry['question'])\n",
    "#     database_entry = {'id': entry['id'], 'question': qn_doc, 'answer': ans_doc}\n",
    "#     database_data.append(database_entry)\n",
    "\n",
    "# # Now processed_data contains the processed text from the JSON file\n",
    "# # You can use the processed data for further analysis or similarity comparison"
   ]
  },
  {
   "cell_type": "code",
   "execution_count": 25,
   "id": "1fe7c23e-dfde-4ac7-9fac-09f6e02986fb",
   "metadata": {},
   "outputs": [],
   "source": [
    "# Read DATABASE Q&A data from the JSON file\n",
    "with open('../backend/questions.json', 'r', encoding='utf-8') as file:\n",
    "    data = json.load(file)\n",
    "\n",
    "# Process each text using spaCy\n",
    "database_data = []\n",
    "for entry in data:\n",
    "    ans_doc = nlp(entry['answer'])\n",
    "    qn_doc = nlp(entry['question'])\n",
    "    database_entry = {'id': entry['id'], 'question': qn_doc, 'answer': ans_doc}\n",
    "    database_data.append(database_entry)\n",
    "\n",
    "# Now processed_data contains the processed text from the JSON file\n",
    "# You can use the processed data for further analysis or similarity comparison"
   ]
  },
  {
   "cell_type": "code",
   "execution_count": 26,
   "id": "b66b3e1d-f961-4d6b-bb7b-760ecb41b6db",
   "metadata": {},
   "outputs": [
    {
     "data": {
      "text/plain": [
       "[{'id': '1', 'text': France's capital is Paris},\n",
       " {'id': '2', 'text': William Shakespeare},\n",
       " {'id': '3', 'text': Saturn},\n",
       " {'id': '4', 'text': There are seven continents},\n",
       " {'id': '5', 'text': Avacado is the main ingredient.},\n",
       " {'id': '6', 'text': Test answer 6},\n",
       " {'id': '7', 'text': Placeholder test answer number 7.},\n",
       " {'id': '8', 'text': This is also a test answer but the last one.}]"
      ]
     },
     "execution_count": 26,
     "metadata": {},
     "output_type": "execute_result"
    }
   ],
   "source": [
    "user_data"
   ]
  },
  {
   "cell_type": "code",
   "execution_count": 27,
   "id": "b98a24c3-4faa-4938-85f6-47e86d956495",
   "metadata": {},
   "outputs": [
    {
     "data": {
      "text/plain": [
       "[{'id': '1',\n",
       "  'question': What are the main causes of marine pollution?,\n",
       "  'answer': Tanker spills, backwater contamination, Incandues waste, Atmospheric pollution, Runoff from land (from agriculture or urban storm drains), Nonpoint source pollution, Natural disasters},\n",
       " {'id': '2',\n",
       "  'question': What are the short, medium, and long-term impacts of Covid-19 on ocean sustainability?,\n",
       "  'answer': Several factors impact ocean sustainability, including the short, medium, and long-term impacts of Covid-19. The Covid-19 pandemic has impacted ocean sustainability by altering the ecology of coastal systems and addressing ocean deoxygenization. The Covid-19 pandemic has had significant negative impacts on ocean sustainability. It has been associated with increased pollution, especially in coastal areas with sewage plants and rivers discharging into the sea. The increased volume of waste discharge has been a primary driver of this pollution. Additionally, the pandemic has also affected the ability to control and prevent marine pollution. For instance, the capacity to implement strategies to address ocean deoxygenization may have been impacted. The exacerbators of Covid-19 on ocean sustainability may encompass aspects such as the reduction of available resources and financial capacity to combat marine pollution. The pandemic has also had medium- and long-term impacts on ocean sustainability, including altered ecological systems and addressing ocean deoxygenization.},\n",
       " {'id': '3',\n",
       "  'question':  What are the possible causes for extremely high values for BOD and COD in marine sediment?,\n",
       "  'answer': The possible causes for extremely high values of BOD and COD in marine sediment are the result of sewage disposal in oceans, which increases biological oxygen demand (BOD) and decreases dissolved oxygen demand (DO). It is also caused by the death of aquatic organisms, ship materials stuck inside the marine organisms, and dredged material that carries heavy metals. also cause the high BOD and COD values.},\n",
       " {'id': '4',\n",
       "  'question': Which of the following is the reason for the high density of oil pollution?,\n",
       "  'answer': The high density of oil pollution is caused by the huge amount of waste that is discharged into the sea. It also causes the ship materials to get stuck inside the marine organisms.},\n",
       " {'id': '5',\n",
       "  'question': What is the most common type of waste that is dumped into the sea?,\n",
       "  'answer': The answer is organic waste, such as flesh, food remains, etc. It degrades into water and contaminates the environment.},\n",
       " {'id': '6',\n",
       "  'question': What is the main reason for the death of aquatic organisms?,\n",
       "  'answer': The answer is the death of aquatic organisms due to the introduction of garbage and other waste. It also affects aquatic species, such as fish, shrimp, etc., leading to extinction.},\n",
       " {'id': '7',\n",
       "  'question': How does ship accidents cause marine pollution,\n",
       "  'answer': Ship accidents and accidental spillages at sea cause marine pollution. Also, the damage can be caused by the size of the ship or the material it carries, such as heavy metals.},\n",
       " {'id': '8',\n",
       "  'question': What is the Gulf of Mexico oil spill also known as?,\n",
       "  'answer': The Deepwater Horizon oil spill, also known as the Gulf of Mexico oil spill, is a notable example of an oil spill with devastating effects on the marine environment. It caused the catastrophic explosion on the Deepwater Horizon offshore oil drilling platform, with a huge volume of millions of liters of oil spilled.}]"
      ]
     },
     "execution_count": 27,
     "metadata": {},
     "output_type": "execute_result"
    }
   ],
   "source": [
    "database_data"
   ]
  },
  {
   "cell_type": "code",
   "execution_count": 28,
   "id": "907d4b1a-305f-447a-af59-c41c8606aabc",
   "metadata": {},
   "outputs": [],
   "source": [
    "# removing stopwords from the user_data and database_data - AN ATTEMPT TO INCREASE WORD SIMILARITY\n",
    "\n",
    "# Process the text for each answer in the user data\n",
    "for user_answer in user_data:\n",
    "    filtered_user_answer = []\n",
    "    filtered_db_answer = []\n",
    "    user_doc = nlp(user_answer[\"text\"])\n",
    "\n",
    "    # Removing stop words and storing it in filtered_user_answer which is stored in the filtered_answer key\n",
    "    for word in user_doc:\n",
    "        if word.is_stop==False:\n",
    "            filtered_user_answer.append(word)\n",
    "    \n",
    "    user_answer[\"filtered_user_answer\"] = filtered_user_answer\n",
    "    user_answer[\"filtered_user_answer\"] = ' '.join(token.text for token in user_answer[\"filtered_user_answer\"])\n",
    "\n",
    "    # Find the corresponding entry in database_data based on 'id'\n",
    "    db_answer = next((item for item in database_data if item[\"id\"] == user_answer[\"id\"]), None)\n",
    "\n",
    "    if db_answer:\n",
    "        database_doc = nlp(db_answer[\"answer\"])\n",
    "        # Removing stop words and storing it in filtered_user_answer which is stored in the filtered_answer key\n",
    "        for word in database_doc:\n",
    "            if word.is_stop==False:\n",
    "                filtered_db_answer.append(word)\n",
    "        \n",
    "        db_answer[\"filtered_db_answer\"] = filtered_db_answer\n",
    "        db_answer[\"filtered_db_answer\"] = ' '.join(token.text for token in db_answer[\"filtered_db_answer\"])"
   ]
  },
  {
   "cell_type": "code",
   "execution_count": 29,
   "id": "05e51290-184b-4554-b6cb-743613f3341b",
   "metadata": {},
   "outputs": [],
   "source": [
    "# removing words from the user_answer and database_answer that is also from the database_question\n",
    "\n",
    "# Process the text for each answer in the user data\n",
    "for user_answer in user_data:\n",
    "    final_user_answer = []\n",
    "    final_db_answer = []\n",
    "    user_doc = nlp(user_answer[\"filtered_user_answer\"])\n",
    "\n",
    "    # Find the corresponding entry in database_data based on 'id'\n",
    "    db_answer = next((item for item in database_data if item[\"id\"] == user_answer[\"id\"]), None)\n",
    "\n",
    "    if db_answer:\n",
    "        db_qn_doc = nlp(db_answer[\"question\"])\n",
    "        db_ans_doc = nlp(db_answer[\"filtered_db_answer\"])\n",
    "        \n",
    "        qn_words_list = [token.text for token in db_qn_doc]\n",
    "        for word in db_ans_doc:\n",
    "            if not (word.text in qn_words_list):\n",
    "                if not (word.text in final_db_answer):\n",
    "                    final_db_answer.append(word)\n",
    "\n",
    "        for word in user_doc:\n",
    "            if not (word.text in qn_words_list):\n",
    "                if not (word.text in final_user_answer):\n",
    "                    final_user_answer.append(word)\n",
    "        \n",
    "        db_answer[\"final_answer\"] = final_db_answer\n",
    "        db_answer[\"final_answer\"] = ' '.join(token.text for token in db_answer[\"final_answer\"] if not token.is_punct)\n",
    "\n",
    "        user_answer[\"final_answer\"] = final_user_answer\n",
    "        user_answer[\"final_answer\"] = ' '.join(token.text for token in user_answer[\"final_answer\"] if not token.is_punct)"
   ]
  },
  {
   "cell_type": "code",
   "execution_count": 9,
   "id": "3cf6e3d3-d005-425a-9f72-8de15b3797e7",
   "metadata": {},
   "outputs": [],
   "source": [
    "# # removing words from the database answer that are contained in the database question - AN ATTEMPT TO INCREASE WORD SIMILARITY\n",
    "# for db_answer in database_data:\n",
    "#     final_answer = []\n",
    "#     db_qn_doc = nlp(db_answer[\"question\"])\n",
    "#     db_ans_doc = nlp(db_answer[\"filtered_db_answer\"])\n",
    "\n",
    "#     # for avoid in db_qn_doc:\n",
    "#     #     for word in db_ans_doc:\n",
    "#     #         if (word != avoid):\n",
    "#     #             if not (word in final_answer) :\n",
    "#     #                 final_answer.append(word)\n",
    "\n",
    "#     qn_words_list = [token.text for token in db_qn_doc]\n",
    "#     for word in db_ans_doc:\n",
    "#         if not (word.text in qn_words_list):\n",
    "#             if not (word.text in final_answer):\n",
    "#                 final_answer.append(word)"
   ]
  },
  {
   "cell_type": "code",
   "execution_count": 32,
   "id": "ed970ee0-c26c-4805-8a8a-324b9d8bc09e",
   "metadata": {},
   "outputs": [],
   "source": [
    "# Function to calculate similarity between two documents\n",
    "def calculate_similarity(user_doc, database_doc):\n",
    "    return user_doc.similarity(database_doc)\n",
    "\n",
    "# Process the text for each answer in the user data\n",
    "for user_answer in user_data:\n",
    "    user_doc = nlp(user_answer[\"final_answer\"])\n",
    "\n",
    "    # Find the corresponding entry in database_data based on 'id'\n",
    "    db_answer = next((item for item in database_data if item[\"id\"] == user_answer[\"id\"]), None)\n",
    "\n",
    "    if db_answer:\n",
    "        database_doc = nlp(db_answer[\"final_answer\"])\n",
    "\n",
    "        # Calculate similarity\n",
    "        similarity_score = calculate_similarity(user_doc, database_doc)\n",
    "\n",
    "        # Store the similarity score or use it as needed\n",
    "        user_answer[\"similarity_score\"] = similarity_score\n",
    "\n",
    "# Now user_data contains similarity scores for each corresponding pair"
   ]
  },
  {
   "cell_type": "code",
   "execution_count": 33,
   "id": "6537c0a7-281f-4e00-b7ef-9129f3419b0c",
   "metadata": {},
   "outputs": [
    {
     "data": {
      "text/plain": [
       "[{'id': '1',\n",
       "  'text': France's capital is Paris,\n",
       "  'filtered_user_answer': 'France capital Paris',\n",
       "  'final_answer': 'France capital Paris',\n",
       "  'similarity_score': 0.39463797297377556},\n",
       " {'id': '2',\n",
       "  'text': William Shakespeare,\n",
       "  'filtered_user_answer': 'William Shakespeare',\n",
       "  'final_answer': 'William Shakespeare',\n",
       "  'similarity_score': 0.012789122789430228},\n",
       " {'id': '3',\n",
       "  'text': Saturn,\n",
       "  'filtered_user_answer': 'Saturn',\n",
       "  'final_answer': 'Saturn',\n",
       "  'similarity_score': 0.2919211979274255},\n",
       " {'id': '4',\n",
       "  'text': There are seven continents,\n",
       "  'filtered_user_answer': 'seven continents',\n",
       "  'final_answer': 'seven continents',\n",
       "  'similarity_score': 0.5058098210658993},\n",
       " {'id': '5',\n",
       "  'text': Avacado is the main ingredient.,\n",
       "  'filtered_user_answer': 'Avacado main ingredient .',\n",
       "  'final_answer': 'Avacado main ingredient',\n",
       "  'similarity_score': 0.574207624330328},\n",
       " {'id': '6',\n",
       "  'text': Test answer 6,\n",
       "  'filtered_user_answer': 'Test answer 6',\n",
       "  'final_answer': 'Test answer 6',\n",
       "  'similarity_score': 0.08909751441670338},\n",
       " {'id': '7',\n",
       "  'text': Placeholder test answer number 7.,\n",
       "  'filtered_user_answer': 'Placeholder test answer number 7 .',\n",
       "  'final_answer': 'Placeholder test answer number 7',\n",
       "  'similarity_score': 0.32954312288834764},\n",
       " {'id': '8',\n",
       "  'text': This is also a test answer but the last one.,\n",
       "  'filtered_user_answer': 'test answer .',\n",
       "  'final_answer': 'test answer',\n",
       "  'similarity_score': 0.3332357583338359}]"
      ]
     },
     "execution_count": 33,
     "metadata": {},
     "output_type": "execute_result"
    }
   ],
   "source": [
    "user_data"
   ]
  },
  {
   "cell_type": "code",
   "execution_count": 31,
   "id": "67d5e2a3-39d1-4565-8de9-29ed1d881b98",
   "metadata": {},
   "outputs": [
    {
     "data": {
      "text/plain": [
       "[{'id': '1',\n",
       "  'question': What are the main causes of marine pollution?,\n",
       "  'answer': Tanker spills, backwater contamination, Incandues waste, Atmospheric pollution, Runoff from land (from agriculture or urban storm drains), Nonpoint source pollution, Natural disasters,\n",
       "  'filtered_db_answer': 'Tanker spills , backwater contamination , Incandues waste , Atmospheric pollution , Runoff land ( agriculture urban storm drains ) , Nonpoint source pollution , Natural disasters',\n",
       "  'final_answer': 'Tanker spills backwater contamination Incandues waste Atmospheric Runoff land agriculture urban storm drains Nonpoint source Natural disasters'},\n",
       " {'id': '2',\n",
       "  'question': What are the short, medium, and long-term impacts of Covid-19 on ocean sustainability?,\n",
       "  'answer': Several factors impact ocean sustainability, including the short, medium, and long-term impacts of Covid-19. The Covid-19 pandemic has impacted ocean sustainability by altering the ecology of coastal systems and addressing ocean deoxygenization. The Covid-19 pandemic has had significant negative impacts on ocean sustainability. It has been associated with increased pollution, especially in coastal areas with sewage plants and rivers discharging into the sea. The increased volume of waste discharge has been a primary driver of this pollution. Additionally, the pandemic has also affected the ability to control and prevent marine pollution. For instance, the capacity to implement strategies to address ocean deoxygenization may have been impacted. The exacerbators of Covid-19 on ocean sustainability may encompass aspects such as the reduction of available resources and financial capacity to combat marine pollution. The pandemic has also had medium- and long-term impacts on ocean sustainability, including altered ecological systems and addressing ocean deoxygenization.,\n",
       "  'filtered_db_answer': 'factors impact ocean sustainability , including short , medium , long - term impacts Covid-19 . Covid-19 pandemic impacted ocean sustainability altering ecology coastal systems addressing ocean deoxygenization . Covid-19 pandemic significant negative impacts ocean sustainability . associated increased pollution , especially coastal areas sewage plants rivers discharging sea . increased volume waste discharge primary driver pollution . Additionally , pandemic affected ability control prevent marine pollution . instance , capacity implement strategies address ocean deoxygenization impacted . exacerbators Covid-19 ocean sustainability encompass aspects reduction available resources financial capacity combat marine pollution . pandemic medium- long - term impacts ocean sustainability , including altered ecological systems addressing ocean deoxygenization .',\n",
       "  'final_answer': 'factors impact including pandemic impacted altering ecology coastal systems addressing deoxygenization pandemic significant negative associated increased pollution especially coastal areas sewage plants rivers discharging sea increased volume waste discharge primary driver pollution Additionally pandemic affected ability control prevent marine pollution instance capacity implement strategies address deoxygenization impacted exacerbators encompass aspects reduction available resources financial capacity combat marine pollution pandemic medium- including altered ecological systems addressing deoxygenization'},\n",
       " {'id': '3',\n",
       "  'question':  What are the possible causes for extremely high values for BOD and COD in marine sediment?,\n",
       "  'answer': The possible causes for extremely high values of BOD and COD in marine sediment are the result of sewage disposal in oceans, which increases biological oxygen demand (BOD) and decreases dissolved oxygen demand (DO). It is also caused by the death of aquatic organisms, ship materials stuck inside the marine organisms, and dredged material that carries heavy metals. also cause the high BOD and COD values.,\n",
       "  'filtered_db_answer': 'possible causes extremely high values BOD COD marine sediment result sewage disposal oceans , increases biological oxygen demand ( BOD ) decreases dissolved oxygen demand ( ) . caused death aquatic organisms , ship materials stuck inside marine organisms , dredged material carries heavy metals . cause high BOD COD values .',\n",
       "  'final_answer': 'result sewage disposal oceans increases biological oxygen demand decreases dissolved oxygen demand caused death aquatic organisms ship materials stuck inside organisms dredged material carries heavy metals cause'},\n",
       " {'id': '4',\n",
       "  'question': Which of the following is the reason for the high density of oil pollution?,\n",
       "  'answer': The high density of oil pollution is caused by the huge amount of waste that is discharged into the sea. It also causes the ship materials to get stuck inside the marine organisms.,\n",
       "  'filtered_db_answer': 'high density oil pollution caused huge waste discharged sea . causes ship materials stuck inside marine organisms .',\n",
       "  'final_answer': 'caused huge waste discharged sea causes ship materials stuck inside marine organisms'},\n",
       " {'id': '5',\n",
       "  'question': What is the most common type of waste that is dumped into the sea?,\n",
       "  'answer': The answer is organic waste, such as flesh, food remains, etc. It degrades into water and contaminates the environment.,\n",
       "  'filtered_db_answer': 'answer organic waste , flesh , food remains , etc . degrades water contaminates environment .',\n",
       "  'final_answer': 'answer organic flesh food remains etc degrades water contaminates environment'},\n",
       " {'id': '6',\n",
       "  'question': What is the main reason for the death of aquatic organisms?,\n",
       "  'answer': The answer is the death of aquatic organisms due to the introduction of garbage and other waste. It also affects aquatic species, such as fish, shrimp, etc., leading to extinction.,\n",
       "  'filtered_db_answer': 'answer death aquatic organisms introduction garbage waste . affects aquatic species , fish , shrimp , etc . , leading extinction .',\n",
       "  'final_answer': 'answer introduction garbage waste affects species fish shrimp etc leading extinction'},\n",
       " {'id': '7',\n",
       "  'question': How does ship accidents cause marine pollution,\n",
       "  'answer': Ship accidents and accidental spillages at sea cause marine pollution. Also, the damage can be caused by the size of the ship or the material it carries, such as heavy metals.,\n",
       "  'filtered_db_answer': 'Ship accidents accidental spillages sea cause marine pollution . , damage caused size ship material carries , heavy metals .',\n",
       "  'final_answer': 'Ship accidental spillages sea damage caused size material carries heavy metals'},\n",
       " {'id': '8',\n",
       "  'question': What is the Gulf of Mexico oil spill also known as?,\n",
       "  'answer': The Deepwater Horizon oil spill, also known as the Gulf of Mexico oil spill, is a notable example of an oil spill with devastating effects on the marine environment. It caused the catastrophic explosion on the Deepwater Horizon offshore oil drilling platform, with a huge volume of millions of liters of oil spilled.,\n",
       "  'filtered_db_answer': 'Deepwater Horizon oil spill , known Gulf Mexico oil spill , notable example oil spill devastating effects marine environment . caused catastrophic explosion Deepwater Horizon offshore oil drilling platform , huge volume millions liters oil spilled .',\n",
       "  'final_answer': 'Deepwater Horizon notable example devastating effects marine environment caused catastrophic explosion Deepwater Horizon offshore drilling platform huge volume millions liters spilled'}]"
      ]
     },
     "execution_count": 31,
     "metadata": {},
     "output_type": "execute_result"
    }
   ],
   "source": [
    "database_data"
   ]
  },
  {
   "cell_type": "code",
   "execution_count": 34,
   "id": "57b9ac79-259c-4b73-8e8b-50124eca734b",
   "metadata": {},
   "outputs": [],
   "source": [
    "# Calculating the average of the scores\n",
    "user_similarity = 0\n",
    "\n",
    "for user_entry in user_data:\n",
    "    user_similarity += user_entry[\"similarity_score\"] # You can access similarity scores using user_data[i][\"similarity_score\"]\n",
    "\n",
    "avg_score = user_similarity/len(user_data)"
   ]
  },
  {
   "cell_type": "code",
   "execution_count": 35,
   "id": "fb2842c7-69ef-4f66-b8ba-5dad909d2b5a",
   "metadata": {},
   "outputs": [],
   "source": [
    "# Writing similarity scores into json file\n",
    "with open(\"user_final_score.json\", \"w\") as write_file:\n",
    "    json.dump(avg_score, write_file)"
   ]
  },
  {
   "cell_type": "markdown",
   "id": "ea0b360b-ef7a-4414-928c-6e03e335716d",
   "metadata": {},
   "source": [
    "----------------------------------------------------------------"
   ]
  }
 ],
 "metadata": {
  "kernelspec": {
   "display_name": "Python 3 (ipykernel)",
   "language": "python",
   "name": "python3"
  },
  "language_info": {
   "codemirror_mode": {
    "name": "ipython",
    "version": 3
   },
   "file_extension": ".py",
   "mimetype": "text/x-python",
   "name": "python",
   "nbconvert_exporter": "python",
   "pygments_lexer": "ipython3",
   "version": "3.10.0"
  }
 },
 "nbformat": 4,
 "nbformat_minor": 5
}
